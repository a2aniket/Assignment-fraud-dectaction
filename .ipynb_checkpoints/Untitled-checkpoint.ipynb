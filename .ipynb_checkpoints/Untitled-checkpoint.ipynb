{
 "cells": [
  {
   "cell_type": "code",
   "execution_count": 9,
   "metadata": {},
   "outputs": [],
   "source": [
    "number=[1,2,3]\n"
   ]
  },
  {
   "cell_type": "code",
   "execution_count": 14,
   "metadata": {},
   "outputs": [
    {
     "name": "stdout",
     "output_type": "stream",
     "text": [
      "1vs2\n",
      "1vs3\n",
      "2vs1\n",
      "2vs3\n",
      "3vs1\n",
      "3vs2\n"
     ]
    }
   ],
   "source": [
    "processed=[(0,0)]\n",
    "for num in number:\n",
    "    for num1 in number:\n",
    "        if num!=num1:\n",
    "            if (num,num1) not in processed or (num1,num) not in processed:\n",
    "                processed.append((num,num1))\n",
    "                print(str(num) +\"vs\"+str(num1))"
   ]
  },
  {
   "cell_type": "code",
   "execution_count": null,
   "metadata": {},
   "outputs": [],
   "source": []
  }
 ],
 "metadata": {
  "kernelspec": {
   "display_name": "Python 3",
   "language": "python",
   "name": "python3"
  },
  "language_info": {
   "codemirror_mode": {
    "name": "ipython",
    "version": 3
   },
   "file_extension": ".py",
   "mimetype": "text/x-python",
   "name": "python",
   "nbconvert_exporter": "python",
   "pygments_lexer": "ipython3",
   "version": "3.7.6"
  }
 },
 "nbformat": 4,
 "nbformat_minor": 4
}
